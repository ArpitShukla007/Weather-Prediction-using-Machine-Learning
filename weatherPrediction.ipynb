{
  "nbformat": 4,
  "nbformat_minor": 0,
  "metadata": {
    "colab": {
      "name": "weatherPrediction.ipynb",
      "version": "0.3.2",
      "provenance": [],
      "collapsed_sections": [],
      "include_colab_link": true
    },
    "kernelspec": {
      "name": "python3",
      "display_name": "Python 3"
    },
    "accelerator": "GPU"
  },
  "cells": [
    {
      "cell_type": "markdown",
      "metadata": {
        "id": "view-in-github",
        "colab_type": "text"
      },
      "source": [
        "<a href=\"https://colab.research.google.com/github/ArpitShukla007/Weather-Prediction-using-Machine-Learning/blob/master/weatherPrediction.ipynb\" target=\"_parent\"><img src=\"https://colab.research.google.com/assets/colab-badge.svg\" alt=\"Open In Colab\"/></a>"
      ]
    },
    {
      "cell_type": "markdown",
      "metadata": {
        "id": "Jd0LbA5n8I2d",
        "colab_type": "text"
      },
      "source": [
        "**IMPORTING LIBRARIES AND DATASETS**\n",
        "\n",
        "> Indented block\n",
        "\n"
      ]
    },
    {
      "cell_type": "code",
      "metadata": {
        "id": "97jq3Aboscct",
        "colab_type": "code",
        "colab": {}
      },
      "source": [
        "import pandas as pd\n",
        "import numpy as np\n",
        "import statsmodels.api as sm\n",
        "import matplotlib.pyplot as plt  \n",
        "%matplotlib inline"
      ],
      "execution_count": 0,
      "outputs": []
    },
    {
      "cell_type": "code",
      "metadata": {
        "id": "2ryhgqZpP6vy",
        "colab_type": "code",
        "colab": {}
      },
      "source": [
        "df = pd.read_csv('jfkdataset.csv')"
      ],
      "execution_count": 0,
      "outputs": []
    },
    {
      "cell_type": "code",
      "metadata": {
        "id": "olZ8kxZwQvWJ",
        "colab_type": "code",
        "outputId": "3925d3c6-84f7-4a59-97f3-953d52e7dd75",
        "colab": {
          "base_uri": "https://localhost:8080/",
          "height": 297
        }
      },
      "source": [
        "df.describe()"
      ],
      "execution_count": 0,
      "outputs": [
        {
          "output_type": "execute_result",
          "data": {
            "text/html": [
              "<div>\n",
              "<style scoped>\n",
              "    .dataframe tbody tr th:only-of-type {\n",
              "        vertical-align: middle;\n",
              "    }\n",
              "\n",
              "    .dataframe tbody tr th {\n",
              "        vertical-align: top;\n",
              "    }\n",
              "\n",
              "    .dataframe thead th {\n",
              "        text-align: right;\n",
              "    }\n",
              "</style>\n",
              "<table border=\"1\" class=\"dataframe\">\n",
              "  <thead>\n",
              "    <tr style=\"text-align: right;\">\n",
              "      <th></th>\n",
              "      <th>AWND</th>\n",
              "      <th>PRCP</th>\n",
              "      <th>TMAX</th>\n",
              "      <th>TMIN</th>\n",
              "    </tr>\n",
              "  </thead>\n",
              "  <tbody>\n",
              "    <tr>\n",
              "      <th>count</th>\n",
              "      <td>3361.000000</td>\n",
              "      <td>3361.000000</td>\n",
              "      <td>3361.000000</td>\n",
              "      <td>3361.000000</td>\n",
              "    </tr>\n",
              "    <tr>\n",
              "      <th>mean</th>\n",
              "      <td>11.328994</td>\n",
              "      <td>0.121797</td>\n",
              "      <td>62.492115</td>\n",
              "      <td>47.987504</td>\n",
              "    </tr>\n",
              "    <tr>\n",
              "      <th>std</th>\n",
              "      <td>4.351655</td>\n",
              "      <td>0.358454</td>\n",
              "      <td>17.815841</td>\n",
              "      <td>16.891015</td>\n",
              "    </tr>\n",
              "    <tr>\n",
              "      <th>min</th>\n",
              "      <td>2.010000</td>\n",
              "      <td>0.000000</td>\n",
              "      <td>14.000000</td>\n",
              "      <td>1.000000</td>\n",
              "    </tr>\n",
              "    <tr>\n",
              "      <th>25%</th>\n",
              "      <td>8.050000</td>\n",
              "      <td>0.000000</td>\n",
              "      <td>48.000000</td>\n",
              "      <td>35.000000</td>\n",
              "    </tr>\n",
              "    <tr>\n",
              "      <th>50%</th>\n",
              "      <td>10.510000</td>\n",
              "      <td>0.000000</td>\n",
              "      <td>63.000000</td>\n",
              "      <td>48.000000</td>\n",
              "    </tr>\n",
              "    <tr>\n",
              "      <th>75%</th>\n",
              "      <td>13.650000</td>\n",
              "      <td>0.040000</td>\n",
              "      <td>78.000000</td>\n",
              "      <td>63.000000</td>\n",
              "    </tr>\n",
              "    <tr>\n",
              "      <th>max</th>\n",
              "      <td>36.240000</td>\n",
              "      <td>7.800000</td>\n",
              "      <td>103.000000</td>\n",
              "      <td>82.000000</td>\n",
              "    </tr>\n",
              "  </tbody>\n",
              "</table>\n",
              "</div>"
            ],
            "text/plain": [
              "              AWND         PRCP         TMAX         TMIN\n",
              "count  3361.000000  3361.000000  3361.000000  3361.000000\n",
              "mean     11.328994     0.121797    62.492115    47.987504\n",
              "std       4.351655     0.358454    17.815841    16.891015\n",
              "min       2.010000     0.000000    14.000000     1.000000\n",
              "25%       8.050000     0.000000    48.000000    35.000000\n",
              "50%      10.510000     0.000000    63.000000    48.000000\n",
              "75%      13.650000     0.040000    78.000000    63.000000\n",
              "max      36.240000     7.800000   103.000000    82.000000"
            ]
          },
          "metadata": {
            "tags": []
          },
          "execution_count": 3
        }
      ]
    },
    {
      "cell_type": "code",
      "metadata": {
        "id": "PWgHH-7fRWQ4",
        "colab_type": "code",
        "outputId": "771fe9c1-8abf-4e46-deb9-732d2a2f1423",
        "colab": {
          "base_uri": "https://localhost:8080/",
          "height": 204
        }
      },
      "source": [
        "df.head()"
      ],
      "execution_count": 0,
      "outputs": [
        {
          "output_type": "execute_result",
          "data": {
            "text/html": [
              "<div>\n",
              "<style scoped>\n",
              "    .dataframe tbody tr th:only-of-type {\n",
              "        vertical-align: middle;\n",
              "    }\n",
              "\n",
              "    .dataframe tbody tr th {\n",
              "        vertical-align: top;\n",
              "    }\n",
              "\n",
              "    .dataframe thead th {\n",
              "        text-align: right;\n",
              "    }\n",
              "</style>\n",
              "<table border=\"1\" class=\"dataframe\">\n",
              "  <thead>\n",
              "    <tr style=\"text-align: right;\">\n",
              "      <th></th>\n",
              "      <th>NAME</th>\n",
              "      <th>DATE</th>\n",
              "      <th>AWND</th>\n",
              "      <th>PRCP</th>\n",
              "      <th>TMAX</th>\n",
              "      <th>TMIN</th>\n",
              "    </tr>\n",
              "  </thead>\n",
              "  <tbody>\n",
              "    <tr>\n",
              "      <th>0</th>\n",
              "      <td>JFK INTERNATIONAL AIRPORT, NY US</td>\n",
              "      <td>01-01-2010</td>\n",
              "      <td>5.37</td>\n",
              "      <td>0.04</td>\n",
              "      <td>41</td>\n",
              "      <td>32</td>\n",
              "    </tr>\n",
              "    <tr>\n",
              "      <th>1</th>\n",
              "      <td>JFK INTERNATIONAL AIRPORT, NY US</td>\n",
              "      <td>02-01-2010</td>\n",
              "      <td>23.71</td>\n",
              "      <td>0.00</td>\n",
              "      <td>33</td>\n",
              "      <td>17</td>\n",
              "    </tr>\n",
              "    <tr>\n",
              "      <th>2</th>\n",
              "      <td>JFK INTERNATIONAL AIRPORT, NY US</td>\n",
              "      <td>03-01-2010</td>\n",
              "      <td>25.50</td>\n",
              "      <td>0.00</td>\n",
              "      <td>24</td>\n",
              "      <td>18</td>\n",
              "    </tr>\n",
              "    <tr>\n",
              "      <th>3</th>\n",
              "      <td>JFK INTERNATIONAL AIRPORT, NY US</td>\n",
              "      <td>04-01-2010</td>\n",
              "      <td>17.67</td>\n",
              "      <td>0.00</td>\n",
              "      <td>32</td>\n",
              "      <td>20</td>\n",
              "    </tr>\n",
              "    <tr>\n",
              "      <th>4</th>\n",
              "      <td>JFK INTERNATIONAL AIRPORT, NY US</td>\n",
              "      <td>05-01-2010</td>\n",
              "      <td>15.88</td>\n",
              "      <td>0.00</td>\n",
              "      <td>32</td>\n",
              "      <td>21</td>\n",
              "    </tr>\n",
              "  </tbody>\n",
              "</table>\n",
              "</div>"
            ],
            "text/plain": [
              "                               NAME        DATE   AWND  PRCP  TMAX  TMIN\n",
              "0  JFK INTERNATIONAL AIRPORT, NY US  01-01-2010   5.37  0.04    41    32\n",
              "1  JFK INTERNATIONAL AIRPORT, NY US  02-01-2010  23.71  0.00    33    17\n",
              "2  JFK INTERNATIONAL AIRPORT, NY US  03-01-2010  25.50  0.00    24    18\n",
              "3  JFK INTERNATIONAL AIRPORT, NY US  04-01-2010  17.67  0.00    32    20\n",
              "4  JFK INTERNATIONAL AIRPORT, NY US  05-01-2010  15.88  0.00    32    21"
            ]
          },
          "metadata": {
            "tags": []
          },
          "execution_count": 4
        }
      ]
    },
    {
      "cell_type": "markdown",
      "metadata": {
        "id": "rlm7vOAT9AFz",
        "colab_type": "text"
      },
      "source": [
        "**CHECK THE NULL DATA**"
      ]
    },
    {
      "cell_type": "code",
      "metadata": {
        "id": "JBI38xf_TWxx",
        "colab_type": "code",
        "outputId": "437d0ed2-f2b1-4c69-cb55-8f458f86cae2",
        "colab": {
          "base_uri": "https://localhost:8080/",
          "height": 136
        }
      },
      "source": [
        "df.isnull().sum()"
      ],
      "execution_count": 0,
      "outputs": [
        {
          "output_type": "execute_result",
          "data": {
            "text/plain": [
              "NAME    0\n",
              "DATE    0\n",
              "AWND    0\n",
              "PRCP    0\n",
              "TMAX    0\n",
              "TMIN    0\n",
              "dtype: int64"
            ]
          },
          "metadata": {
            "tags": []
          },
          "execution_count": 5
        }
      ]
    },
    {
      "cell_type": "markdown",
      "metadata": {
        "id": "OeqnLH2b9SNw",
        "colab_type": "text"
      },
      "source": [
        "**MAKE A NEW COLUMN FOR AVERAGE TEMPERATURE**"
      ]
    },
    {
      "cell_type": "code",
      "metadata": {
        "id": "sV_P6V--Pamz",
        "colab_type": "code",
        "colab": {}
      },
      "source": [
        "TMEAN = (df.TMIN + df.TMAX)/2"
      ],
      "execution_count": 0,
      "outputs": []
    },
    {
      "cell_type": "code",
      "metadata": {
        "id": "mpCE1GqJ0sJC",
        "colab_type": "code",
        "colab": {}
      },
      "source": [
        "df['TMEAN']=TMEAN"
      ],
      "execution_count": 0,
      "outputs": []
    },
    {
      "cell_type": "code",
      "metadata": {
        "id": "vk0f0RzS0zQA",
        "colab_type": "code",
        "outputId": "e1c23d9f-9c9c-4f06-c73c-f1852e1e075d",
        "colab": {
          "base_uri": "https://localhost:8080/",
          "height": 204
        }
      },
      "source": [
        "df.head()"
      ],
      "execution_count": 0,
      "outputs": [
        {
          "output_type": "execute_result",
          "data": {
            "text/html": [
              "<div>\n",
              "<style scoped>\n",
              "    .dataframe tbody tr th:only-of-type {\n",
              "        vertical-align: middle;\n",
              "    }\n",
              "\n",
              "    .dataframe tbody tr th {\n",
              "        vertical-align: top;\n",
              "    }\n",
              "\n",
              "    .dataframe thead th {\n",
              "        text-align: right;\n",
              "    }\n",
              "</style>\n",
              "<table border=\"1\" class=\"dataframe\">\n",
              "  <thead>\n",
              "    <tr style=\"text-align: right;\">\n",
              "      <th></th>\n",
              "      <th>NAME</th>\n",
              "      <th>DATE</th>\n",
              "      <th>AWND</th>\n",
              "      <th>PRCP</th>\n",
              "      <th>TMAX</th>\n",
              "      <th>TMIN</th>\n",
              "      <th>TMEAN</th>\n",
              "    </tr>\n",
              "  </thead>\n",
              "  <tbody>\n",
              "    <tr>\n",
              "      <th>0</th>\n",
              "      <td>JFK INTERNATIONAL AIRPORT, NY US</td>\n",
              "      <td>01-01-2010</td>\n",
              "      <td>5.37</td>\n",
              "      <td>0.04</td>\n",
              "      <td>41</td>\n",
              "      <td>32</td>\n",
              "      <td>36.5</td>\n",
              "    </tr>\n",
              "    <tr>\n",
              "      <th>1</th>\n",
              "      <td>JFK INTERNATIONAL AIRPORT, NY US</td>\n",
              "      <td>02-01-2010</td>\n",
              "      <td>23.71</td>\n",
              "      <td>0.00</td>\n",
              "      <td>33</td>\n",
              "      <td>17</td>\n",
              "      <td>25.0</td>\n",
              "    </tr>\n",
              "    <tr>\n",
              "      <th>2</th>\n",
              "      <td>JFK INTERNATIONAL AIRPORT, NY US</td>\n",
              "      <td>03-01-2010</td>\n",
              "      <td>25.50</td>\n",
              "      <td>0.00</td>\n",
              "      <td>24</td>\n",
              "      <td>18</td>\n",
              "      <td>21.0</td>\n",
              "    </tr>\n",
              "    <tr>\n",
              "      <th>3</th>\n",
              "      <td>JFK INTERNATIONAL AIRPORT, NY US</td>\n",
              "      <td>04-01-2010</td>\n",
              "      <td>17.67</td>\n",
              "      <td>0.00</td>\n",
              "      <td>32</td>\n",
              "      <td>20</td>\n",
              "      <td>26.0</td>\n",
              "    </tr>\n",
              "    <tr>\n",
              "      <th>4</th>\n",
              "      <td>JFK INTERNATIONAL AIRPORT, NY US</td>\n",
              "      <td>05-01-2010</td>\n",
              "      <td>15.88</td>\n",
              "      <td>0.00</td>\n",
              "      <td>32</td>\n",
              "      <td>21</td>\n",
              "      <td>26.5</td>\n",
              "    </tr>\n",
              "  </tbody>\n",
              "</table>\n",
              "</div>"
            ],
            "text/plain": [
              "                               NAME        DATE   AWND  PRCP  TMAX  TMIN  \\\n",
              "0  JFK INTERNATIONAL AIRPORT, NY US  01-01-2010   5.37  0.04    41    32   \n",
              "1  JFK INTERNATIONAL AIRPORT, NY US  02-01-2010  23.71  0.00    33    17   \n",
              "2  JFK INTERNATIONAL AIRPORT, NY US  03-01-2010  25.50  0.00    24    18   \n",
              "3  JFK INTERNATIONAL AIRPORT, NY US  04-01-2010  17.67  0.00    32    20   \n",
              "4  JFK INTERNATIONAL AIRPORT, NY US  05-01-2010  15.88  0.00    32    21   \n",
              "\n",
              "   TMEAN  \n",
              "0   36.5  \n",
              "1   25.0  \n",
              "2   21.0  \n",
              "3   26.0  \n",
              "4   26.5  "
            ]
          },
          "metadata": {
            "tags": []
          },
          "execution_count": 8
        }
      ]
    },
    {
      "cell_type": "code",
      "metadata": {
        "id": "kdxt1IkD01B4",
        "colab_type": "code",
        "outputId": "1b78ea35-92eb-4021-adb6-6457bb96b202",
        "colab": {
          "base_uri": "https://localhost:8080/",
          "height": 297
        }
      },
      "source": [
        "df.describe()"
      ],
      "execution_count": 0,
      "outputs": [
        {
          "output_type": "execute_result",
          "data": {
            "text/html": [
              "<div>\n",
              "<style scoped>\n",
              "    .dataframe tbody tr th:only-of-type {\n",
              "        vertical-align: middle;\n",
              "    }\n",
              "\n",
              "    .dataframe tbody tr th {\n",
              "        vertical-align: top;\n",
              "    }\n",
              "\n",
              "    .dataframe thead th {\n",
              "        text-align: right;\n",
              "    }\n",
              "</style>\n",
              "<table border=\"1\" class=\"dataframe\">\n",
              "  <thead>\n",
              "    <tr style=\"text-align: right;\">\n",
              "      <th></th>\n",
              "      <th>AWND</th>\n",
              "      <th>PRCP</th>\n",
              "      <th>TMAX</th>\n",
              "      <th>TMIN</th>\n",
              "      <th>TMEAN</th>\n",
              "    </tr>\n",
              "  </thead>\n",
              "  <tbody>\n",
              "    <tr>\n",
              "      <th>count</th>\n",
              "      <td>3361.000000</td>\n",
              "      <td>3361.000000</td>\n",
              "      <td>3361.000000</td>\n",
              "      <td>3361.000000</td>\n",
              "      <td>3361.000000</td>\n",
              "    </tr>\n",
              "    <tr>\n",
              "      <th>mean</th>\n",
              "      <td>11.328994</td>\n",
              "      <td>0.121797</td>\n",
              "      <td>62.492115</td>\n",
              "      <td>47.987504</td>\n",
              "      <td>55.239810</td>\n",
              "    </tr>\n",
              "    <tr>\n",
              "      <th>std</th>\n",
              "      <td>4.351655</td>\n",
              "      <td>0.358454</td>\n",
              "      <td>17.815841</td>\n",
              "      <td>16.891015</td>\n",
              "      <td>17.171012</td>\n",
              "    </tr>\n",
              "    <tr>\n",
              "      <th>min</th>\n",
              "      <td>2.010000</td>\n",
              "      <td>0.000000</td>\n",
              "      <td>14.000000</td>\n",
              "      <td>1.000000</td>\n",
              "      <td>9.000000</td>\n",
              "    </tr>\n",
              "    <tr>\n",
              "      <th>25%</th>\n",
              "      <td>8.050000</td>\n",
              "      <td>0.000000</td>\n",
              "      <td>48.000000</td>\n",
              "      <td>35.000000</td>\n",
              "      <td>41.500000</td>\n",
              "    </tr>\n",
              "    <tr>\n",
              "      <th>50%</th>\n",
              "      <td>10.510000</td>\n",
              "      <td>0.000000</td>\n",
              "      <td>63.000000</td>\n",
              "      <td>48.000000</td>\n",
              "      <td>55.000000</td>\n",
              "    </tr>\n",
              "    <tr>\n",
              "      <th>75%</th>\n",
              "      <td>13.650000</td>\n",
              "      <td>0.040000</td>\n",
              "      <td>78.000000</td>\n",
              "      <td>63.000000</td>\n",
              "      <td>71.000000</td>\n",
              "    </tr>\n",
              "    <tr>\n",
              "      <th>max</th>\n",
              "      <td>36.240000</td>\n",
              "      <td>7.800000</td>\n",
              "      <td>103.000000</td>\n",
              "      <td>82.000000</td>\n",
              "      <td>90.500000</td>\n",
              "    </tr>\n",
              "  </tbody>\n",
              "</table>\n",
              "</div>"
            ],
            "text/plain": [
              "              AWND         PRCP         TMAX         TMIN        TMEAN\n",
              "count  3361.000000  3361.000000  3361.000000  3361.000000  3361.000000\n",
              "mean     11.328994     0.121797    62.492115    47.987504    55.239810\n",
              "std       4.351655     0.358454    17.815841    16.891015    17.171012\n",
              "min       2.010000     0.000000    14.000000     1.000000     9.000000\n",
              "25%       8.050000     0.000000    48.000000    35.000000    41.500000\n",
              "50%      10.510000     0.000000    63.000000    48.000000    55.000000\n",
              "75%      13.650000     0.040000    78.000000    63.000000    71.000000\n",
              "max      36.240000     7.800000   103.000000    82.000000    90.500000"
            ]
          },
          "metadata": {
            "tags": []
          },
          "execution_count": 9
        }
      ]
    },
    {
      "cell_type": "markdown",
      "metadata": {
        "id": "I3oRJ_MV9cEJ",
        "colab_type": "text"
      },
      "source": [
        "**SELECTING NECESSARY FEATURES**"
      ]
    },
    {
      "cell_type": "code",
      "metadata": {
        "id": "c72zs-j0R-9u",
        "colab_type": "code",
        "colab": {}
      },
      "source": [
        "features = [\"DATE\",\"AWND\",\"PRCP\", \"TMAX\",\"TMIN\",\"TMEAN\"]"
      ],
      "execution_count": 0,
      "outputs": []
    },
    {
      "cell_type": "markdown",
      "metadata": {
        "id": "_5CBP0AW9k3g",
        "colab_type": "text"
      },
      "source": [
        "**DERIVE THESE FEATURES FOR 3 DAYS BEFORE PREDICTION DATE**"
      ]
    },
    {
      "cell_type": "code",
      "metadata": {
        "id": "WYkXdoBq_83B",
        "colab_type": "code",
        "colab": {}
      },
      "source": [
        "def derive_nth_day_feature(df, feature, N):  \n",
        "    rows = df.shape[0]\n",
        "    nth_prior_measurements = [None]*N + [df[feature][i-N] for i in range(N, rows)]\n",
        "    col_name = \"{}_{}\".format(feature, N)\n",
        "    df[col_name] = nth_prior_measurements"
      ],
      "execution_count": 0,
      "outputs": []
    },
    {
      "cell_type": "code",
      "metadata": {
        "id": "J3mfVjG1P-PF",
        "colab_type": "code",
        "colab": {}
      },
      "source": [
        "for feature in features:  \n",
        "    if feature != 'DATE':\n",
        "        for N in range(1, 4):\n",
        "            derive_nth_day_feature(df, feature, N)"
      ],
      "execution_count": 0,
      "outputs": []
    },
    {
      "cell_type": "code",
      "metadata": {
        "id": "n8Ysz8wuRX6U",
        "colab_type": "code",
        "outputId": "71f0d963-23bb-45e4-d654-386339c63d72",
        "colab": {
          "base_uri": "https://localhost:8080/",
          "height": 102
        }
      },
      "source": [
        "df.columns"
      ],
      "execution_count": 0,
      "outputs": [
        {
          "output_type": "execute_result",
          "data": {
            "text/plain": [
              "Index(['NAME', 'DATE', 'AWND', 'PRCP', 'TMAX', 'TMIN', 'TMEAN', 'AWND_1',\n",
              "       'AWND_2', 'AWND_3', 'PRCP_1', 'PRCP_2', 'PRCP_3', 'TMAX_1', 'TMAX_2',\n",
              "       'TMAX_3', 'TMIN_1', 'TMIN_2', 'TMIN_3', 'TMEAN_1', 'TMEAN_2',\n",
              "       'TMEAN_3'],\n",
              "      dtype='object')"
            ]
          },
          "metadata": {
            "tags": []
          },
          "execution_count": 13
        }
      ]
    },
    {
      "cell_type": "code",
      "metadata": {
        "id": "utrZnx6ZRu0A",
        "colab_type": "code",
        "outputId": "8105fba9-9003-4adc-8f18-d9ac2b3838d1",
        "colab": {
          "base_uri": "https://localhost:8080/",
          "height": 476
        }
      },
      "source": [
        "df.info()"
      ],
      "execution_count": 0,
      "outputs": [
        {
          "output_type": "stream",
          "text": [
            "<class 'pandas.core.frame.DataFrame'>\n",
            "RangeIndex: 3361 entries, 0 to 3360\n",
            "Data columns (total 22 columns):\n",
            "NAME       3361 non-null object\n",
            "DATE       3361 non-null object\n",
            "AWND       3361 non-null float64\n",
            "PRCP       3361 non-null float64\n",
            "TMAX       3361 non-null int64\n",
            "TMIN       3361 non-null int64\n",
            "TMEAN      3361 non-null float64\n",
            "AWND_1     3360 non-null float64\n",
            "AWND_2     3359 non-null float64\n",
            "AWND_3     3358 non-null float64\n",
            "PRCP_1     3360 non-null float64\n",
            "PRCP_2     3359 non-null float64\n",
            "PRCP_3     3358 non-null float64\n",
            "TMAX_1     3360 non-null float64\n",
            "TMAX_2     3359 non-null float64\n",
            "TMAX_3     3358 non-null float64\n",
            "TMIN_1     3360 non-null float64\n",
            "TMIN_2     3359 non-null float64\n",
            "TMIN_3     3358 non-null float64\n",
            "TMEAN_1    3360 non-null float64\n",
            "TMEAN_2    3359 non-null float64\n",
            "TMEAN_3    3358 non-null float64\n",
            "dtypes: float64(18), int64(2), object(2)\n",
            "memory usage: 577.8+ KB\n"
          ],
          "name": "stdout"
        }
      ]
    },
    {
      "cell_type": "markdown",
      "metadata": {
        "id": "6tB5HhX_9vHO",
        "colab_type": "text"
      },
      "source": [
        "**HISTOGRAM VIEW **"
      ]
    },
    {
      "cell_type": "code",
      "metadata": {
        "colab_type": "code",
        "outputId": "7c66ee7c-6b4e-4254-b523-dc02b2fcb39c",
        "id": "mtpC82qKUR3F",
        "colab": {
          "base_uri": "https://localhost:8080/",
          "height": 513
        }
      },
      "source": [
        "\n",
        "plt.rcParams['figure.figsize'] = [14, 8]  \n",
        "df.TMAX.hist()\n",
        "plt.title('Distribution of TMAX')  \n",
        "plt.xlabel('TMAX')  \n",
        "plt.show()  "
      ],
      "execution_count": 0,
      "outputs": [
        {
          "output_type": "display_data",
          "data": {
            "image/png": "[encoded data removed]",
            "text/plain": [
              "<Figure size 1008x576 with 1 Axes>"
            ]
          },
          "metadata": {
            "tags": []
          }
        }
      ]
    },
    {
      "cell_type": "code",
      "metadata": {
        "id": "T7zvzhJeV1I2",
        "colab_type": "code",
        "outputId": "b5329e3c-817f-4919-d9eb-b47a55cb9725",
        "colab": {
          "base_uri": "https://localhost:8080/",
          "height": 513
        }
      },
      "source": [
        "plt.rcParams['figure.figsize'] = [14, 8]  \n",
        "df.TMIN.hist()\n",
        "plt.title('Distribution of TMIN')  \n",
        "plt.xlabel('TMIN')  \n",
        "plt.show()  "
      ],
      "execution_count": 0,
      "outputs": [
        {
          "output_type": "display_data",
          "data": {
            "image/png": "[encoded data removed]",
            "text/plain": [
              "<Figure size 1008x576 with 1 Axes>"
            ]
          },
          "metadata": {
            "tags": []
          }
        }
      ]
    },
    {
      "cell_type": "code",
      "metadata": {
        "id": "-frITSfqV5t3",
        "colab_type": "code",
        "outputId": "75ad4b75-6308-4011-d6e8-5b71f98fa059",
        "colab": {
          "base_uri": "https://localhost:8080/",
          "height": 669
        }
      },
      "source": [
        "df.describe().T"
      ],
      "execution_count": 0,
      "outputs": [
        {
          "output_type": "execute_result",
          "data": {
            "text/html": [
              "<div>\n",
              "<style scoped>\n",
              "    .dataframe tbody tr th:only-of-type {\n",
              "        vertical-align: middle;\n",
              "    }\n",
              "\n",
              "    .dataframe tbody tr th {\n",
              "        vertical-align: top;\n",
              "    }\n",
              "\n",
              "    .dataframe thead th {\n",
              "        text-align: right;\n",
              "    }\n",
              "</style>\n",
              "<table border=\"1\" class=\"dataframe\">\n",
              "  <thead>\n",
              "    <tr style=\"text-align: right;\">\n",
              "      <th></th>\n",
              "      <th>count</th>\n",
              "      <th>mean</th>\n",
              "      <th>std</th>\n",
              "      <th>min</th>\n",
              "      <th>25%</th>\n",
              "      <th>50%</th>\n",
              "      <th>75%</th>\n",
              "      <th>max</th>\n",
              "    </tr>\n",
              "  </thead>\n",
              "  <tbody>\n",
              "    <tr>\n",
              "      <th>AWND</th>\n",
              "      <td>3361.0</td>\n",
              "      <td>11.328994</td>\n",
              "      <td>4.351655</td>\n",
              "      <td>2.01</td>\n",
              "      <td>8.0500</td>\n",
              "      <td>10.51</td>\n",
              "      <td>13.65</td>\n",
              "      <td>36.24</td>\n",
              "    </tr>\n",
              "    <tr>\n",
              "      <th>PRCP</th>\n",
              "      <td>3361.0</td>\n",
              "      <td>0.121797</td>\n",
              "      <td>0.358454</td>\n",
              "      <td>0.00</td>\n",
              "      <td>0.0000</td>\n",
              "      <td>0.00</td>\n",
              "      <td>0.04</td>\n",
              "      <td>7.80</td>\n",
              "    </tr>\n",
              "    <tr>\n",
              "      <th>TMAX</th>\n",
              "      <td>3361.0</td>\n",
              "      <td>62.492115</td>\n",
              "      <td>17.815841</td>\n",
              "      <td>14.00</td>\n",
              "      <td>48.0000</td>\n",
              "      <td>63.00</td>\n",
              "      <td>78.00</td>\n",
              "      <td>103.00</td>\n",
              "    </tr>\n",
              "    <tr>\n",
              "      <th>TMIN</th>\n",
              "      <td>3361.0</td>\n",
              "      <td>47.987504</td>\n",
              "      <td>16.891015</td>\n",
              "      <td>1.00</td>\n",
              "      <td>35.0000</td>\n",
              "      <td>48.00</td>\n",
              "      <td>63.00</td>\n",
              "      <td>82.00</td>\n",
              "    </tr>\n",
              "    <tr>\n",
              "      <th>TMEAN</th>\n",
              "      <td>3361.0</td>\n",
              "      <td>55.239810</td>\n",
              "      <td>17.171012</td>\n",
              "      <td>9.00</td>\n",
              "      <td>41.5000</td>\n",
              "      <td>55.00</td>\n",
              "      <td>71.00</td>\n",
              "      <td>90.50</td>\n",
              "    </tr>\n",
              "    <tr>\n",
              "      <th>AWND_1</th>\n",
              "      <td>3360.0</td>\n",
              "      <td>11.327241</td>\n",
              "      <td>4.351115</td>\n",
              "      <td>2.01</td>\n",
              "      <td>8.0500</td>\n",
              "      <td>10.51</td>\n",
              "      <td>13.65</td>\n",
              "      <td>36.24</td>\n",
              "    </tr>\n",
              "    <tr>\n",
              "      <th>AWND_2</th>\n",
              "      <td>3359.0</td>\n",
              "      <td>11.327017</td>\n",
              "      <td>4.351744</td>\n",
              "      <td>2.01</td>\n",
              "      <td>8.0500</td>\n",
              "      <td>10.51</td>\n",
              "      <td>13.65</td>\n",
              "      <td>36.24</td>\n",
              "    </tr>\n",
              "    <tr>\n",
              "      <th>AWND_3</th>\n",
              "      <td>3358.0</td>\n",
              "      <td>11.328058</td>\n",
              "      <td>4.351973</td>\n",
              "      <td>2.01</td>\n",
              "      <td>8.1075</td>\n",
              "      <td>10.51</td>\n",
              "      <td>13.65</td>\n",
              "      <td>36.24</td>\n",
              "    </tr>\n",
              "    <tr>\n",
              "      <th>PRCP_1</th>\n",
              "      <td>3360.0</td>\n",
              "      <td>0.121786</td>\n",
              "      <td>0.358506</td>\n",
              "      <td>0.00</td>\n",
              "      <td>0.0000</td>\n",
              "      <td>0.00</td>\n",
              "      <td>0.04</td>\n",
              "      <td>7.80</td>\n",
              "    </tr>\n",
              "    <tr>\n",
              "      <th>PRCP_2</th>\n",
              "      <td>3359.0</td>\n",
              "      <td>0.121822</td>\n",
              "      <td>0.358554</td>\n",
              "      <td>0.00</td>\n",
              "      <td>0.0000</td>\n",
              "      <td>0.00</td>\n",
              "      <td>0.04</td>\n",
              "      <td>7.80</td>\n",
              "    </tr>\n",
              "    <tr>\n",
              "      <th>PRCP_3</th>\n",
              "      <td>3358.0</td>\n",
              "      <td>0.121858</td>\n",
              "      <td>0.358601</td>\n",
              "      <td>0.00</td>\n",
              "      <td>0.0000</td>\n",
              "      <td>0.00</td>\n",
              "      <td>0.04</td>\n",
              "      <td>7.80</td>\n",
              "    </tr>\n",
              "    <tr>\n",
              "      <th>TMAX_1</th>\n",
              "      <td>3360.0</td>\n",
              "      <td>62.493155</td>\n",
              "      <td>17.818391</td>\n",
              "      <td>14.00</td>\n",
              "      <td>48.0000</td>\n",
              "      <td>63.00</td>\n",
              "      <td>78.00</td>\n",
              "      <td>103.00</td>\n",
              "    </tr>\n",
              "    <tr>\n",
              "      <th>TMAX_2</th>\n",
              "      <td>3359.0</td>\n",
              "      <td>62.496279</td>\n",
              "      <td>17.820123</td>\n",
              "      <td>14.00</td>\n",
              "      <td>48.0000</td>\n",
              "      <td>63.00</td>\n",
              "      <td>78.00</td>\n",
              "      <td>103.00</td>\n",
              "    </tr>\n",
              "    <tr>\n",
              "      <th>TMAX_3</th>\n",
              "      <td>3358.0</td>\n",
              "      <td>62.502382</td>\n",
              "      <td>17.819265</td>\n",
              "      <td>14.00</td>\n",
              "      <td>48.0000</td>\n",
              "      <td>63.00</td>\n",
              "      <td>78.00</td>\n",
              "      <td>103.00</td>\n",
              "    </tr>\n",
              "    <tr>\n",
              "      <th>TMIN_1</th>\n",
              "      <td>3360.0</td>\n",
              "      <td>47.987798</td>\n",
              "      <td>16.893521</td>\n",
              "      <td>1.00</td>\n",
              "      <td>35.0000</td>\n",
              "      <td>48.00</td>\n",
              "      <td>63.00</td>\n",
              "      <td>82.00</td>\n",
              "    </tr>\n",
              "    <tr>\n",
              "      <th>TMIN_2</th>\n",
              "      <td>3359.0</td>\n",
              "      <td>47.990771</td>\n",
              "      <td>16.895156</td>\n",
              "      <td>1.00</td>\n",
              "      <td>35.0000</td>\n",
              "      <td>48.00</td>\n",
              "      <td>63.00</td>\n",
              "      <td>82.00</td>\n",
              "    </tr>\n",
              "    <tr>\n",
              "      <th>TMIN_3</th>\n",
              "      <td>3358.0</td>\n",
              "      <td>47.996426</td>\n",
              "      <td>16.894493</td>\n",
              "      <td>1.00</td>\n",
              "      <td>35.0000</td>\n",
              "      <td>48.00</td>\n",
              "      <td>63.00</td>\n",
              "      <td>82.00</td>\n",
              "    </tr>\n",
              "    <tr>\n",
              "      <th>TMEAN_1</th>\n",
              "      <td>3360.0</td>\n",
              "      <td>55.240476</td>\n",
              "      <td>17.173525</td>\n",
              "      <td>9.00</td>\n",
              "      <td>41.3750</td>\n",
              "      <td>55.00</td>\n",
              "      <td>71.00</td>\n",
              "      <td>90.50</td>\n",
              "    </tr>\n",
              "    <tr>\n",
              "      <th>TMEAN_2</th>\n",
              "      <td>3359.0</td>\n",
              "      <td>55.243525</td>\n",
              "      <td>17.175172</td>\n",
              "      <td>9.00</td>\n",
              "      <td>41.2500</td>\n",
              "      <td>55.00</td>\n",
              "      <td>71.00</td>\n",
              "      <td>90.50</td>\n",
              "    </tr>\n",
              "    <tr>\n",
              "      <th>TMEAN_3</th>\n",
              "      <td>3358.0</td>\n",
              "      <td>55.249404</td>\n",
              "      <td>17.174349</td>\n",
              "      <td>9.00</td>\n",
              "      <td>41.5000</td>\n",
              "      <td>55.00</td>\n",
              "      <td>71.00</td>\n",
              "      <td>90.50</td>\n",
              "    </tr>\n",
              "  </tbody>\n",
              "</table>\n",
              "</div>"
            ],
            "text/plain": [
              "          count       mean        std    min      25%    50%    75%     max\n",
              "AWND     3361.0  11.328994   4.351655   2.01   8.0500  10.51  13.65   36.24\n",
              "PRCP     3361.0   0.121797   0.358454   0.00   0.0000   0.00   0.04    7.80\n",
              "TMAX     3361.0  62.492115  17.815841  14.00  48.0000  63.00  78.00  103.00\n",
              "TMIN     3361.0  47.987504  16.891015   1.00  35.0000  48.00  63.00   82.00\n",
              "TMEAN    3361.0  55.239810  17.171012   9.00  41.5000  55.00  71.00   90.50\n",
              "AWND_1   3360.0  11.327241   4.351115   2.01   8.0500  10.51  13.65   36.24\n",
              "AWND_2   3359.0  11.327017   4.351744   2.01   8.0500  10.51  13.65   36.24\n",
              "AWND_3   3358.0  11.328058   4.351973   2.01   8.1075  10.51  13.65   36.24\n",
              "PRCP_1   3360.0   0.121786   0.358506   0.00   0.0000   0.00   0.04    7.80\n",
              "PRCP_2   3359.0   0.121822   0.358554   0.00   0.0000   0.00   0.04    7.80\n",
              "PRCP_3   3358.0   0.121858   0.358601   0.00   0.0000   0.00   0.04    7.80\n",
              "TMAX_1   3360.0  62.493155  17.818391  14.00  48.0000  63.00  78.00  103.00\n",
              "TMAX_2   3359.0  62.496279  17.820123  14.00  48.0000  63.00  78.00  103.00\n",
              "TMAX_3   3358.0  62.502382  17.819265  14.00  48.0000  63.00  78.00  103.00\n",
              "TMIN_1   3360.0  47.987798  16.893521   1.00  35.0000  48.00  63.00   82.00\n",
              "TMIN_2   3359.0  47.990771  16.895156   1.00  35.0000  48.00  63.00   82.00\n",
              "TMIN_3   3358.0  47.996426  16.894493   1.00  35.0000  48.00  63.00   82.00\n",
              "TMEAN_1  3360.0  55.240476  17.173525   9.00  41.3750  55.00  71.00   90.50\n",
              "TMEAN_2  3359.0  55.243525  17.175172   9.00  41.2500  55.00  71.00   90.50\n",
              "TMEAN_3  3358.0  55.249404  17.174349   9.00  41.5000  55.00  71.00   90.50"
            ]
          },
          "metadata": {
            "tags": []
          },
          "execution_count": 17
        }
      ]
    },
    {
      "cell_type": "code",
      "metadata": {
        "id": "wVz0U6ZRKESd",
        "colab_type": "code",
        "outputId": "5b752605-928b-46c4-bc0c-065b47eff571",
        "colab": {
          "base_uri": "https://localhost:8080/",
          "height": 528
        }
      },
      "source": [
        "df.head()"
      ],
      "execution_count": 0,
      "outputs": [
        {
          "output_type": "execute_result",
          "data": {
            "text/html": [
              "<div>\n",
              "<style scoped>\n",
              "    .dataframe tbody tr th:only-of-type {\n",
              "        vertical-align: middle;\n",
              "    }\n",
              "\n",
              "    .dataframe tbody tr th {\n",
              "        vertical-align: top;\n",
              "    }\n",
              "\n",
              "    .dataframe thead th {\n",
              "        text-align: right;\n",
              "    }\n",
              "</style>\n",
              "<table border=\"1\" class=\"dataframe\">\n",
              "  <thead>\n",
              "    <tr style=\"text-align: right;\">\n",
              "      <th></th>\n",
              "      <th>NAME</th>\n",
              "      <th>DATE</th>\n",
              "      <th>AWND</th>\n",
              "      <th>PRCP</th>\n",
              "      <th>TMAX</th>\n",
              "      <th>TMIN</th>\n",
              "      <th>TMEAN</th>\n",
              "      <th>AWND_1</th>\n",
              "      <th>AWND_2</th>\n",
              "      <th>AWND_3</th>\n",
              "      <th>...</th>\n",
              "      <th>PRCP_3</th>\n",
              "      <th>TMAX_1</th>\n",
              "      <th>TMAX_2</th>\n",
              "      <th>TMAX_3</th>\n",
              "      <th>TMIN_1</th>\n",
              "      <th>TMIN_2</th>\n",
              "      <th>TMIN_3</th>\n",
              "      <th>TMEAN_1</th>\n",
              "      <th>TMEAN_2</th>\n",
              "      <th>TMEAN_3</th>\n",
              "    </tr>\n",
              "  </thead>\n",
              "  <tbody>\n",
              "    <tr>\n",
              "      <th>0</th>\n",
              "      <td>JFK INTERNATIONAL AIRPORT, NY US</td>\n",
              "      <td>01-01-2010</td>\n",
              "      <td>5.37</td>\n",
              "      <td>0.04</td>\n",
              "      <td>41</td>\n",
              "      <td>32</td>\n",
              "      <td>36.5</td>\n",
              "      <td>NaN</td>\n",
              "      <td>NaN</td>\n",
              "      <td>NaN</td>\n",
              "      <td>...</td>\n",
              "      <td>NaN</td>\n",
              "      <td>NaN</td>\n",
              "      <td>NaN</td>\n",
              "      <td>NaN</td>\n",
              "      <td>NaN</td>\n",
              "      <td>NaN</td>\n",
              "      <td>NaN</td>\n",
              "      <td>NaN</td>\n",
              "      <td>NaN</td>\n",
              "      <td>NaN</td>\n",
              "    </tr>\n",
              "    <tr>\n",
              "      <th>1</th>\n",
              "      <td>JFK INTERNATIONAL AIRPORT, NY US</td>\n",
              "      <td>02-01-2010</td>\n",
              "      <td>23.71</td>\n",
              "      <td>0.00</td>\n",
              "      <td>33</td>\n",
              "      <td>17</td>\n",
              "      <td>25.0</td>\n",
              "      <td>5.37</td>\n",
              "      <td>NaN</td>\n",
              "      <td>NaN</td>\n",
              "      <td>...</td>\n",
              "      <td>NaN</td>\n",
              "      <td>41.0</td>\n",
              "      <td>NaN</td>\n",
              "      <td>NaN</td>\n",
              "      <td>32.0</td>\n",
              "      <td>NaN</td>\n",
              "      <td>NaN</td>\n",
              "      <td>36.5</td>\n",
              "      <td>NaN</td>\n",
              "      <td>NaN</td>\n",
              "    </tr>\n",
              "    <tr>\n",
              "      <th>2</th>\n",
              "      <td>JFK INTERNATIONAL AIRPORT, NY US</td>\n",
              "      <td>03-01-2010</td>\n",
              "      <td>25.50</td>\n",
              "      <td>0.00</td>\n",
              "      <td>24</td>\n",
              "      <td>18</td>\n",
              "      <td>21.0</td>\n",
              "      <td>23.71</td>\n",
              "      <td>5.37</td>\n",
              "      <td>NaN</td>\n",
              "      <td>...</td>\n",
              "      <td>NaN</td>\n",
              "      <td>33.0</td>\n",
              "      <td>41.0</td>\n",
              "      <td>NaN</td>\n",
              "      <td>17.0</td>\n",
              "      <td>32.0</td>\n",
              "      <td>NaN</td>\n",
              "      <td>25.0</td>\n",
              "      <td>36.5</td>\n",
              "      <td>NaN</td>\n",
              "    </tr>\n",
              "    <tr>\n",
              "      <th>3</th>\n",
              "      <td>JFK INTERNATIONAL AIRPORT, NY US</td>\n",
              "      <td>04-01-2010</td>\n",
              "      <td>17.67</td>\n",
              "      <td>0.00</td>\n",
              "      <td>32</td>\n",
              "      <td>20</td>\n",
              "      <td>26.0</td>\n",
              "      <td>25.50</td>\n",
              "      <td>23.71</td>\n",
              "      <td>5.37</td>\n",
              "      <td>...</td>\n",
              "      <td>0.04</td>\n",
              "      <td>24.0</td>\n",
              "      <td>33.0</td>\n",
              "      <td>41.0</td>\n",
              "      <td>18.0</td>\n",
              "      <td>17.0</td>\n",
              "      <td>32.0</td>\n",
              "      <td>21.0</td>\n",
              "      <td>25.0</td>\n",
              "      <td>36.5</td>\n",
              "    </tr>\n",
              "    <tr>\n",
              "      <th>4</th>\n",
              "      <td>JFK INTERNATIONAL AIRPORT, NY US</td>\n",
              "      <td>05-01-2010</td>\n",
              "      <td>15.88</td>\n",
              "      <td>0.00</td>\n",
              "      <td>32</td>\n",
              "      <td>21</td>\n",
              "      <td>26.5</td>\n",
              "      <td>17.67</td>\n",
              "      <td>25.50</td>\n",
              "      <td>23.71</td>\n",
              "      <td>...</td>\n",
              "      <td>0.00</td>\n",
              "      <td>32.0</td>\n",
              "      <td>24.0</td>\n",
              "      <td>33.0</td>\n",
              "      <td>20.0</td>\n",
              "      <td>18.0</td>\n",
              "      <td>17.0</td>\n",
              "      <td>26.0</td>\n",
              "      <td>21.0</td>\n",
              "      <td>25.0</td>\n",
              "    </tr>\n",
              "  </tbody>\n",
              "</table>\n",
              "<p>5 rows × 22 columns</p>\n",
              "</div>"
            ],
            "text/plain": [
              "                               NAME        DATE   AWND  PRCP  TMAX  TMIN  \\\n",
              "0  JFK INTERNATIONAL AIRPORT, NY US  01-01-2010   5.37  0.04    41    32   \n",
              "1  JFK INTERNATIONAL AIRPORT, NY US  02-01-2010  23.71  0.00    33    17   \n",
              "2  JFK INTERNATIONAL AIRPORT, NY US  03-01-2010  25.50  0.00    24    18   \n",
              "3  JFK INTERNATIONAL AIRPORT, NY US  04-01-2010  17.67  0.00    32    20   \n",
              "4  JFK INTERNATIONAL AIRPORT, NY US  05-01-2010  15.88  0.00    32    21   \n",
              "\n",
              "   TMEAN  AWND_1  AWND_2  AWND_3  ...  PRCP_3  TMAX_1  TMAX_2  TMAX_3  TMIN_1  \\\n",
              "0   36.5     NaN     NaN     NaN  ...     NaN     NaN     NaN     NaN     NaN   \n",
              "1   25.0    5.37     NaN     NaN  ...     NaN    41.0     NaN     NaN    32.0   \n",
              "2   21.0   23.71    5.37     NaN  ...     NaN    33.0    41.0     NaN    17.0   \n",
              "3   26.0   25.50   23.71    5.37  ...    0.04    24.0    33.0    41.0    18.0   \n",
              "4   26.5   17.67   25.50   23.71  ...    0.00    32.0    24.0    33.0    20.0   \n",
              "\n",
              "   TMIN_2  TMIN_3  TMEAN_1  TMEAN_2  TMEAN_3  \n",
              "0     NaN     NaN      NaN      NaN      NaN  \n",
              "1     NaN     NaN     36.5      NaN      NaN  \n",
              "2    32.0     NaN     25.0     36.5      NaN  \n",
              "3    17.0    32.0     21.0     25.0     36.5  \n",
              "4    18.0    17.0     26.0     21.0     25.0  \n",
              "\n",
              "[5 rows x 22 columns]"
            ]
          },
          "metadata": {
            "tags": []
          },
          "execution_count": 18
        }
      ]
    },
    {
      "cell_type": "markdown",
      "metadata": {
        "id": "unoT0QVjJd7w",
        "colab_type": "text"
      },
      "source": [
        "**Check out the CORELATION**"
      ]
    },
    {
      "cell_type": "code",
      "metadata": {
        "id": "R4Uk_6QKQJ2a",
        "colab_type": "code",
        "outputId": "bf51f9c0-5282-4574-9a46-ef6557ea5e44",
        "colab": {
          "base_uri": "https://localhost:8080/",
          "height": 669
        }
      },
      "source": [
        "df.corr()[['TMEAN']].sort_values('TMEAN')"
      ],
      "execution_count": 0,
      "outputs": [
        {
          "output_type": "execute_result",
          "data": {
            "text/html": [
              "<div>\n",
              "<style scoped>\n",
              "    .dataframe tbody tr th:only-of-type {\n",
              "        vertical-align: middle;\n",
              "    }\n",
              "\n",
              "    .dataframe tbody tr th {\n",
              "        vertical-align: top;\n",
              "    }\n",
              "\n",
              "    .dataframe thead th {\n",
              "        text-align: right;\n",
              "    }\n",
              "</style>\n",
              "<table border=\"1\" class=\"dataframe\">\n",
              "  <thead>\n",
              "    <tr style=\"text-align: right;\">\n",
              "      <th></th>\n",
              "      <th>TMEAN</th>\n",
              "    </tr>\n",
              "  </thead>\n",
              "  <tbody>\n",
              "    <tr>\n",
              "      <th>AWND_1</th>\n",
              "      <td>-0.371482</td>\n",
              "    </tr>\n",
              "    <tr>\n",
              "      <th>AWND_2</th>\n",
              "      <td>-0.338988</td>\n",
              "    </tr>\n",
              "    <tr>\n",
              "      <th>AWND</th>\n",
              "      <td>-0.306538</td>\n",
              "    </tr>\n",
              "    <tr>\n",
              "      <th>AWND_3</th>\n",
              "      <td>-0.305982</td>\n",
              "    </tr>\n",
              "    <tr>\n",
              "      <th>PRCP_2</th>\n",
              "      <td>-0.023999</td>\n",
              "    </tr>\n",
              "    <tr>\n",
              "      <th>PRCP_3</th>\n",
              "      <td>-0.021435</td>\n",
              "    </tr>\n",
              "    <tr>\n",
              "      <th>PRCP_1</th>\n",
              "      <td>0.001379</td>\n",
              "    </tr>\n",
              "    <tr>\n",
              "      <th>PRCP</th>\n",
              "      <td>0.008295</td>\n",
              "    </tr>\n",
              "    <tr>\n",
              "      <th>TMAX_3</th>\n",
              "      <td>0.869724</td>\n",
              "    </tr>\n",
              "    <tr>\n",
              "      <th>TMIN_3</th>\n",
              "      <td>0.879935</td>\n",
              "    </tr>\n",
              "    <tr>\n",
              "      <th>TMEAN_3</th>\n",
              "      <td>0.883990</td>\n",
              "    </tr>\n",
              "    <tr>\n",
              "      <th>TMAX_2</th>\n",
              "      <td>0.887572</td>\n",
              "    </tr>\n",
              "    <tr>\n",
              "      <th>TMIN_2</th>\n",
              "      <td>0.898060</td>\n",
              "    </tr>\n",
              "    <tr>\n",
              "      <th>TMEAN_2</th>\n",
              "      <td>0.902160</td>\n",
              "    </tr>\n",
              "    <tr>\n",
              "      <th>TMAX_1</th>\n",
              "      <td>0.933127</td>\n",
              "    </tr>\n",
              "    <tr>\n",
              "      <th>TMIN_1</th>\n",
              "      <td>0.944015</td>\n",
              "    </tr>\n",
              "    <tr>\n",
              "      <th>TMEAN_1</th>\n",
              "      <td>0.948395</td>\n",
              "    </tr>\n",
              "    <tr>\n",
              "      <th>TMIN</th>\n",
              "      <td>0.988910</td>\n",
              "    </tr>\n",
              "    <tr>\n",
              "      <th>TMAX</th>\n",
              "      <td>0.990037</td>\n",
              "    </tr>\n",
              "    <tr>\n",
              "      <th>TMEAN</th>\n",
              "      <td>1.000000</td>\n",
              "    </tr>\n",
              "  </tbody>\n",
              "</table>\n",
              "</div>"
            ],
            "text/plain": [
              "            TMEAN\n",
              "AWND_1  -0.371482\n",
              "AWND_2  -0.338988\n",
              "AWND    -0.306538\n",
              "AWND_3  -0.305982\n",
              "PRCP_2  -0.023999\n",
              "PRCP_3  -0.021435\n",
              "PRCP_1   0.001379\n",
              "PRCP     0.008295\n",
              "TMAX_3   0.869724\n",
              "TMIN_3   0.879935\n",
              "TMEAN_3  0.883990\n",
              "TMAX_2   0.887572\n",
              "TMIN_2   0.898060\n",
              "TMEAN_2  0.902160\n",
              "TMAX_1   0.933127\n",
              "TMIN_1   0.944015\n",
              "TMEAN_1  0.948395\n",
              "TMIN     0.988910\n",
              "TMAX     0.990037\n",
              "TMEAN    1.000000"
            ]
          },
          "metadata": {
            "tags": []
          },
          "execution_count": 19
        }
      ]
    },
    {
      "cell_type": "code",
      "metadata": {
        "id": "D-RmHQz7FxV-",
        "colab_type": "code",
        "outputId": "30621f9a-a9b6-4872-da5e-e83f8ea577e6",
        "colab": {
          "base_uri": "https://localhost:8080/",
          "height": 433
        }
      },
      "source": [
        "\n",
        "spread = df.describe().T\n",
        "# precalculate interquartile range for ease of use in next calculation\n",
        "IQR = spread['75%'] - spread['25%']\n",
        "\n",
        "# create an outliers column which is either 3 IQRs below the first quartile or\n",
        "# 3 IQRs above the third quartile\n",
        "spread['outliers'] = (spread['min']<(spread['25%']-(3*IQR)))|(spread['max'] > (spread['75%']+3*IQR))\n",
        "\n",
        "# just display the features containing extreme outliers\n",
        "spread.ix[spread.outliers,]"
      ],
      "execution_count": 0,
      "outputs": [
        {
          "output_type": "stream",
          "text": [
            "/usr/local/lib/python3.6/dist-packages/ipykernel_launcher.py:11: DeprecationWarning: \n",
            ".ix is deprecated. Please use\n",
            ".loc for label based indexing or\n",
            ".iloc for positional indexing\n",
            "\n",
            "See the documentation here:\n",
            "http://pandas.pydata.org/pandas-docs/stable/indexing.html#ix-indexer-is-deprecated\n",
            "  # This is added back by InteractiveShellApp.init_path()\n"
          ],
          "name": "stderr"
        },
        {
          "output_type": "execute_result",
          "data": {
            "text/html": [
              "<div>\n",
              "<style scoped>\n",
              "    .dataframe tbody tr th:only-of-type {\n",
              "        vertical-align: middle;\n",
              "    }\n",
              "\n",
              "    .dataframe tbody tr th {\n",
              "        vertical-align: top;\n",
              "    }\n",
              "\n",
              "    .dataframe thead th {\n",
              "        text-align: right;\n",
              "    }\n",
              "</style>\n",
              "<table border=\"1\" class=\"dataframe\">\n",
              "  <thead>\n",
              "    <tr style=\"text-align: right;\">\n",
              "      <th></th>\n",
              "      <th>count</th>\n",
              "      <th>mean</th>\n",
              "      <th>std</th>\n",
              "      <th>min</th>\n",
              "      <th>25%</th>\n",
              "      <th>50%</th>\n",
              "      <th>75%</th>\n",
              "      <th>max</th>\n",
              "      <th>outliers</th>\n",
              "    </tr>\n",
              "  </thead>\n",
              "  <tbody>\n",
              "    <tr>\n",
              "      <th>AWND</th>\n",
              "      <td>3361.0</td>\n",
              "      <td>11.328994</td>\n",
              "      <td>4.351655</td>\n",
              "      <td>2.01</td>\n",
              "      <td>8.0500</td>\n",
              "      <td>10.51</td>\n",
              "      <td>13.65</td>\n",
              "      <td>36.24</td>\n",
              "      <td>True</td>\n",
              "    </tr>\n",
              "    <tr>\n",
              "      <th>PRCP</th>\n",
              "      <td>3361.0</td>\n",
              "      <td>0.121797</td>\n",
              "      <td>0.358454</td>\n",
              "      <td>0.00</td>\n",
              "      <td>0.0000</td>\n",
              "      <td>0.00</td>\n",
              "      <td>0.04</td>\n",
              "      <td>7.80</td>\n",
              "      <td>True</td>\n",
              "    </tr>\n",
              "    <tr>\n",
              "      <th>AWND_1</th>\n",
              "      <td>3360.0</td>\n",
              "      <td>11.327241</td>\n",
              "      <td>4.351115</td>\n",
              "      <td>2.01</td>\n",
              "      <td>8.0500</td>\n",
              "      <td>10.51</td>\n",
              "      <td>13.65</td>\n",
              "      <td>36.24</td>\n",
              "      <td>True</td>\n",
              "    </tr>\n",
              "    <tr>\n",
              "      <th>AWND_2</th>\n",
              "      <td>3359.0</td>\n",
              "      <td>11.327017</td>\n",
              "      <td>4.351744</td>\n",
              "      <td>2.01</td>\n",
              "      <td>8.0500</td>\n",
              "      <td>10.51</td>\n",
              "      <td>13.65</td>\n",
              "      <td>36.24</td>\n",
              "      <td>True</td>\n",
              "    </tr>\n",
              "    <tr>\n",
              "      <th>AWND_3</th>\n",
              "      <td>3358.0</td>\n",
              "      <td>11.328058</td>\n",
              "      <td>4.351973</td>\n",
              "      <td>2.01</td>\n",
              "      <td>8.1075</td>\n",
              "      <td>10.51</td>\n",
              "      <td>13.65</td>\n",
              "      <td>36.24</td>\n",
              "      <td>True</td>\n",
              "    </tr>\n",
              "    <tr>\n",
              "      <th>PRCP_1</th>\n",
              "      <td>3360.0</td>\n",
              "      <td>0.121786</td>\n",
              "      <td>0.358506</td>\n",
              "      <td>0.00</td>\n",
              "      <td>0.0000</td>\n",
              "      <td>0.00</td>\n",
              "      <td>0.04</td>\n",
              "      <td>7.80</td>\n",
              "      <td>True</td>\n",
              "    </tr>\n",
              "    <tr>\n",
              "      <th>PRCP_2</th>\n",
              "      <td>3359.0</td>\n",
              "      <td>0.121822</td>\n",
              "      <td>0.358554</td>\n",
              "      <td>0.00</td>\n",
              "      <td>0.0000</td>\n",
              "      <td>0.00</td>\n",
              "      <td>0.04</td>\n",
              "      <td>7.80</td>\n",
              "      <td>True</td>\n",
              "    </tr>\n",
              "    <tr>\n",
              "      <th>PRCP_3</th>\n",
              "      <td>3358.0</td>\n",
              "      <td>0.121858</td>\n",
              "      <td>0.358601</td>\n",
              "      <td>0.00</td>\n",
              "      <td>0.0000</td>\n",
              "      <td>0.00</td>\n",
              "      <td>0.04</td>\n",
              "      <td>7.80</td>\n",
              "      <td>True</td>\n",
              "    </tr>\n",
              "  </tbody>\n",
              "</table>\n",
              "</div>"
            ],
            "text/plain": [
              "         count       mean       std   min     25%    50%    75%    max  \\\n",
              "AWND    3361.0  11.328994  4.351655  2.01  8.0500  10.51  13.65  36.24   \n",
              "PRCP    3361.0   0.121797  0.358454  0.00  0.0000   0.00   0.04   7.80   \n",
              "AWND_1  3360.0  11.327241  4.351115  2.01  8.0500  10.51  13.65  36.24   \n",
              "AWND_2  3359.0  11.327017  4.351744  2.01  8.0500  10.51  13.65  36.24   \n",
              "AWND_3  3358.0  11.328058  4.351973  2.01  8.1075  10.51  13.65  36.24   \n",
              "PRCP_1  3360.0   0.121786  0.358506  0.00  0.0000   0.00   0.04   7.80   \n",
              "PRCP_2  3359.0   0.121822  0.358554  0.00  0.0000   0.00   0.04   7.80   \n",
              "PRCP_3  3358.0   0.121858  0.358601  0.00  0.0000   0.00   0.04   7.80   \n",
              "\n",
              "        outliers  \n",
              "AWND        True  \n",
              "PRCP        True  \n",
              "AWND_1      True  \n",
              "AWND_2      True  \n",
              "AWND_3      True  \n",
              "PRCP_1      True  \n",
              "PRCP_2      True  \n",
              "PRCP_3      True  "
            ]
          },
          "metadata": {
            "tags": []
          },
          "execution_count": 20
        }
      ]
    },
    {
      "cell_type": "code",
      "metadata": {
        "id": "k38PGXeJTFP8",
        "colab_type": "code",
        "colab": {}
      },
      "source": [
        "predictors = ['TMAX_1' , 'TMAX_2' ,\t'TMAX_3' ,\n",
        "              'TMIN_1' , 'TMIN_2' , 'TMIN_3' ,\t\n",
        "              'TMEAN_1' , 'TMEAN_2' ,\t'TMEAN_3']\n",
        "df2 = df[['TMEAN'] + predictors]"
      ],
      "execution_count": 0,
      "outputs": []
    },
    {
      "cell_type": "code",
      "metadata": {
        "id": "-ngekjy01AtT",
        "colab_type": "code",
        "outputId": "323fc295-43d6-414b-e3b5-2b60d5bcb9c1",
        "colab": {
          "base_uri": "https://localhost:8080/",
          "height": 882
        }
      },
      "source": [
        "\n",
        "# manually set the parameters of the figure to and appropriate size\n",
        "plt.rcParams['figure.figsize'] = [15, 15]\n",
        "\n",
        "# call subplots specifying the grid structure we desire and that \n",
        "# the y axes should be shared\n",
        "fig, axes = plt.subplots(nrows=3, ncols=3, sharey=True)\n",
        "\n",
        "# Since it would be nice to loop through the features in to build this plot\n",
        "# let us rearrange our data into a 2D array of 3 rows and 3 columns\n",
        "arr = np.array(predictors).reshape(3, 3)\n",
        "\n",
        "# use enumerate to loop over the arr 2D array of rows and columns\n",
        "# and create scatter plots of each meantempm vs each feature\n",
        "for row, col_arr in enumerate(arr):  \n",
        "    for col, feature in enumerate(col_arr):\n",
        "        axes[row, col].scatter(df2[feature], df2['TMEAN'])\n",
        "        if col == 0:\n",
        "            axes[row, col].set(xlabel=feature, ylabel='TMEAN')\n",
        "        else:\n",
        "            axes[row, col].set(xlabel=feature)\n",
        "plt.show()  "
      ],
      "execution_count": 0,
      "outputs": [
        {
          "output_type": "display_data",
          "data": {
            "image/png": "[encoded data removed]",
            "text/plain": [
              "<Figure size 1080x1080 with 9 Axes>"
            ]
          },
          "metadata": {
            "tags": []
          }
        }
      ]
    },
    {
      "cell_type": "code",
      "metadata": {
        "id": "Omx_d91EQ_cm",
        "colab_type": "code",
        "colab": {}
      },
      "source": [
        "# separate our my predictor variables (X) from my outcome variable y\n",
        "X = df2[predictors]  \n",
        "y = df2['TMEAN']\n",
        "\n",
        " \n",
        "\n",
        "\n",
        "\n"
      ],
      "execution_count": 0,
      "outputs": []
    },
    {
      "cell_type": "code",
      "metadata": {
        "id": "CI7QxeSAHlOE",
        "colab_type": "code",
        "outputId": "f590c56e-83ac-4545-c70a-91dfa9e1227f",
        "colab": {
          "base_uri": "https://localhost:8080/",
          "height": 278
        }
      },
      "source": [
        "# Add a constant to the predictor variable set to represent the Bo intercept\n",
        "X = sm.add_constant(X) \n",
        "X.head()"
      ],
      "execution_count": 0,
      "outputs": [
        {
          "output_type": "stream",
          "text": [
            "/usr/local/lib/python3.6/dist-packages/numpy/core/fromnumeric.py:2389: FutureWarning: Method .ptp is deprecated and will be removed in a future version. Use numpy.ptp instead.\n",
            "  return ptp(axis=axis, out=out, **kwargs)\n"
          ],
          "name": "stderr"
        },
        {
          "output_type": "execute_result",
          "data": {
            "text/html": [
              "<div>\n",
              "<style scoped>\n",
              "    .dataframe tbody tr th:only-of-type {\n",
              "        vertical-align: middle;\n",
              "    }\n",
              "\n",
              "    .dataframe tbody tr th {\n",
              "        vertical-align: top;\n",
              "    }\n",
              "\n",
              "    .dataframe thead th {\n",
              "        text-align: right;\n",
              "    }\n",
              "</style>\n",
              "<table border=\"1\" class=\"dataframe\">\n",
              "  <thead>\n",
              "    <tr style=\"text-align: right;\">\n",
              "      <th></th>\n",
              "      <th>const</th>\n",
              "      <th>TMAX_1</th>\n",
              "      <th>TMAX_2</th>\n",
              "      <th>TMAX_3</th>\n",
              "      <th>TMIN_1</th>\n",
              "      <th>TMIN_2</th>\n",
              "      <th>TMIN_3</th>\n",
              "      <th>TMEAN_1</th>\n",
              "      <th>TMEAN_2</th>\n",
              "      <th>TMEAN_3</th>\n",
              "    </tr>\n",
              "  </thead>\n",
              "  <tbody>\n",
              "    <tr>\n",
              "      <th>0</th>\n",
              "      <td>1.0</td>\n",
              "      <td>NaN</td>\n",
              "      <td>NaN</td>\n",
              "      <td>NaN</td>\n",
              "      <td>NaN</td>\n",
              "      <td>NaN</td>\n",
              "      <td>NaN</td>\n",
              "      <td>NaN</td>\n",
              "      <td>NaN</td>\n",
              "      <td>NaN</td>\n",
              "    </tr>\n",
              "    <tr>\n",
              "      <th>1</th>\n",
              "      <td>1.0</td>\n",
              "      <td>41.0</td>\n",
              "      <td>NaN</td>\n",
              "      <td>NaN</td>\n",
              "      <td>32.0</td>\n",
              "      <td>NaN</td>\n",
              "      <td>NaN</td>\n",
              "      <td>36.5</td>\n",
              "      <td>NaN</td>\n",
              "      <td>NaN</td>\n",
              "    </tr>\n",
              "    <tr>\n",
              "      <th>2</th>\n",
              "      <td>1.0</td>\n",
              "      <td>33.0</td>\n",
              "      <td>41.0</td>\n",
              "      <td>NaN</td>\n",
              "      <td>17.0</td>\n",
              "      <td>32.0</td>\n",
              "      <td>NaN</td>\n",
              "      <td>25.0</td>\n",
              "      <td>36.5</td>\n",
              "      <td>NaN</td>\n",
              "    </tr>\n",
              "    <tr>\n",
              "      <th>3</th>\n",
              "      <td>1.0</td>\n",
              "      <td>24.0</td>\n",
              "      <td>33.0</td>\n",
              "      <td>41.0</td>\n",
              "      <td>18.0</td>\n",
              "      <td>17.0</td>\n",
              "      <td>32.0</td>\n",
              "      <td>21.0</td>\n",
              "      <td>25.0</td>\n",
              "      <td>36.5</td>\n",
              "    </tr>\n",
              "    <tr>\n",
              "      <th>4</th>\n",
              "      <td>1.0</td>\n",
              "      <td>32.0</td>\n",
              "      <td>24.0</td>\n",
              "      <td>33.0</td>\n",
              "      <td>20.0</td>\n",
              "      <td>18.0</td>\n",
              "      <td>17.0</td>\n",
              "      <td>26.0</td>\n",
              "      <td>21.0</td>\n",
              "      <td>25.0</td>\n",
              "    </tr>\n",
              "  </tbody>\n",
              "</table>\n",
              "</div>"
            ],
            "text/plain": [
              "   const  TMAX_1  TMAX_2  TMAX_3  TMIN_1  TMIN_2  TMIN_3  TMEAN_1  TMEAN_2  \\\n",
              "0    1.0     NaN     NaN     NaN     NaN     NaN     NaN      NaN      NaN   \n",
              "1    1.0    41.0     NaN     NaN    32.0     NaN     NaN     36.5      NaN   \n",
              "2    1.0    33.0    41.0     NaN    17.0    32.0     NaN     25.0     36.5   \n",
              "3    1.0    24.0    33.0    41.0    18.0    17.0    32.0     21.0     25.0   \n",
              "4    1.0    32.0    24.0    33.0    20.0    18.0    17.0     26.0     21.0   \n",
              "\n",
              "   TMEAN_3  \n",
              "0      NaN  \n",
              "1      NaN  \n",
              "2      NaN  \n",
              "3     36.5  \n",
              "4     25.0  "
            ]
          },
          "metadata": {
            "tags": []
          },
          "execution_count": 24
        }
      ]
    },
    {
      "cell_type": "code",
      "metadata": {
        "id": "fgb-CAlIHyYG",
        "colab_type": "code",
        "colab": {}
      },
      "source": [
        "# Slice first 3 rows\n",
        "X = X.iloc[3:]\n",
        "y = y.iloc[3:]"
      ],
      "execution_count": 0,
      "outputs": []
    },
    {
      "cell_type": "code",
      "metadata": {
        "id": "QV9qRGPKCYwY",
        "colab_type": "code",
        "outputId": "eb5ac1d9-0d69-4caa-c63d-1b369acd8455",
        "colab": {
          "base_uri": "https://localhost:8080/",
          "height": 340
        }
      },
      "source": [
        "print(X.head())\n",
        "print(y.head())"
      ],
      "execution_count": 0,
      "outputs": [
        {
          "output_type": "stream",
          "text": [
            "   const  TMAX_1  TMAX_2  TMAX_3  TMIN_1  TMIN_2  TMIN_3  TMEAN_1  TMEAN_2  \\\n",
            "3    1.0    24.0    33.0    41.0    18.0    17.0    32.0     21.0     25.0   \n",
            "4    1.0    32.0    24.0    33.0    20.0    18.0    17.0     26.0     21.0   \n",
            "5    1.0    32.0    32.0    24.0    21.0    20.0    18.0     26.5     26.0   \n",
            "6    1.0    36.0    32.0    32.0    26.0    21.0    20.0     31.0     26.5   \n",
            "7    1.0    40.0    36.0    32.0    29.0    26.0    21.0     34.5     31.0   \n",
            "\n",
            "   TMEAN_3  \n",
            "3     36.5  \n",
            "4     25.0  \n",
            "5     21.0  \n",
            "6     26.0  \n",
            "7     26.5  \n",
            "3    26.0\n",
            "4    26.5\n",
            "5    31.0\n",
            "6    34.5\n",
            "7    28.0\n",
            "Name: TMEAN, dtype: float64\n"
          ],
          "name": "stdout"
        }
      ]
    },
    {
      "cell_type": "code",
      "metadata": {
        "id": "jGv0SkZNRMiN",
        "colab_type": "code",
        "outputId": "c8abff40-1059-4c97-f726-955b2cb4b5e8",
        "colab": {
          "base_uri": "https://localhost:8080/",
          "height": 646
        }
      },
      "source": [
        "# (1)Set learing rate\n",
        "  alpha = 0.05\n",
        "\n",
        "# (2) Fit the model\n",
        "model = sm.OLS(y, X).fit()\n",
        "\n",
        "predictions = model.predict(X)\n",
        "\n",
        "# (3) evaluate the coefficients' p-values\n",
        "model.summary()"
      ],
      "execution_count": 0,
      "outputs": [
        {
          "output_type": "execute_result",
          "data": {
            "text/html": [
              "<table class=\"simpletable\">\n",
              "<caption>OLS Regression Results</caption>\n",
              "<tr>\n",
              "  <th>Dep. Variable:</th>          <td>TMEAN</td>      <th>  R-squared:         </th> <td>   0.908</td> \n",
              "</tr>\n",
              "<tr>\n",
              "  <th>Model:</th>                   <td>OLS</td>       <th>  Adj. R-squared:    </th> <td>   0.908</td> \n",
              "</tr>\n",
              "<tr>\n",
              "  <th>Method:</th>             <td>Least Squares</td>  <th>  F-statistic:       </th> <td>   5539.</td> \n",
              "</tr>\n",
              "<tr>\n",
              "  <th>Date:</th>             <td>Sat, 04 May 2019</td> <th>  Prob (F-statistic):</th>  <td>  0.00</td>  \n",
              "</tr>\n",
              "<tr>\n",
              "  <th>Time:</th>                 <td>02:31:21</td>     <th>  Log-Likelihood:    </th> <td> -10296.</td> \n",
              "</tr>\n",
              "<tr>\n",
              "  <th>No. Observations:</th>      <td>  3358</td>      <th>  AIC:               </th> <td>2.061e+04</td>\n",
              "</tr>\n",
              "<tr>\n",
              "  <th>Df Residuals:</th>          <td>  3351</td>      <th>  BIC:               </th> <td>2.065e+04</td>\n",
              "</tr>\n",
              "<tr>\n",
              "  <th>Df Model:</th>              <td>     6</td>      <th>                     </th>     <td> </td>    \n",
              "</tr>\n",
              "<tr>\n",
              "  <th>Covariance Type:</th>      <td>nonrobust</td>    <th>                     </th>     <td> </td>    \n",
              "</tr>\n",
              "</table>\n",
              "<table class=\"simpletable\">\n",
              "<tr>\n",
              "     <td></td>        <th>coef</th>     <th>std err</th>      <th>t</th>      <th>P>|t|</th>  <th>[0.025</th>    <th>0.975]</th>  \n",
              "</tr>\n",
              "<tr>\n",
              "  <th>const</th>   <td>    3.0533</td> <td>    0.443</td> <td>    6.886</td> <td> 0.000</td> <td>    2.184</td> <td>    3.923</td>\n",
              "</tr>\n",
              "<tr>\n",
              "  <th>TMAX_1</th>  <td>    0.1721</td> <td>    0.018</td> <td>    9.414</td> <td> 0.000</td> <td>    0.136</td> <td>    0.208</td>\n",
              "</tr>\n",
              "<tr>\n",
              "  <th>TMAX_2</th>  <td>    0.0279</td> <td>    0.019</td> <td>    1.484</td> <td> 0.138</td> <td>   -0.009</td> <td>    0.065</td>\n",
              "</tr>\n",
              "<tr>\n",
              "  <th>TMAX_3</th>  <td>    0.0415</td> <td>    0.018</td> <td>    2.264</td> <td> 0.024</td> <td>    0.006</td> <td>    0.077</td>\n",
              "</tr>\n",
              "<tr>\n",
              "  <th>TMIN_1</th>  <td>    0.4737</td> <td>    0.022</td> <td>   21.631</td> <td> 0.000</td> <td>    0.431</td> <td>    0.517</td>\n",
              "</tr>\n",
              "<tr>\n",
              "  <th>TMIN_2</th>  <td>   -0.2176</td> <td>    0.024</td> <td>   -8.975</td> <td> 0.000</td> <td>   -0.265</td> <td>   -0.170</td>\n",
              "</tr>\n",
              "<tr>\n",
              "  <th>TMIN_3</th>  <td>    0.1464</td> <td>    0.021</td> <td>    6.916</td> <td> 0.000</td> <td>    0.105</td> <td>    0.188</td>\n",
              "</tr>\n",
              "<tr>\n",
              "  <th>TMEAN_1</th> <td>    0.3229</td> <td>    0.006</td> <td>   55.110</td> <td> 0.000</td> <td>    0.311</td> <td>    0.334</td>\n",
              "</tr>\n",
              "<tr>\n",
              "  <th>TMEAN_2</th> <td>   -0.0948</td> <td>    0.008</td> <td>  -11.706</td> <td> 0.000</td> <td>   -0.111</td> <td>   -0.079</td>\n",
              "</tr>\n",
              "<tr>\n",
              "  <th>TMEAN_3</th> <td>    0.0940</td> <td>    0.006</td> <td>   16.090</td> <td> 0.000</td> <td>    0.083</td> <td>    0.105</td>\n",
              "</tr>\n",
              "</table>\n",
              "<table class=\"simpletable\">\n",
              "<tr>\n",
              "  <th>Omnibus:</th>       <td>21.502</td> <th>  Durbin-Watson:     </th> <td>   2.064</td>\n",
              "</tr>\n",
              "<tr>\n",
              "  <th>Prob(Omnibus):</th> <td> 0.000</td> <th>  Jarque-Bera (JB):  </th> <td>  29.246</td>\n",
              "</tr>\n",
              "<tr>\n",
              "  <th>Skew:</th>          <td>-0.069</td> <th>  Prob(JB):          </th> <td>4.46e-07</td>\n",
              "</tr>\n",
              "<tr>\n",
              "  <th>Kurtosis:</th>      <td> 3.436</td> <th>  Cond. No.          </th> <td>1.27e+17</td>\n",
              "</tr>\n",
              "</table><br/><br/>Warnings:<br/>[1] Standard Errors assume that the covariance matrix of the errors is correctly specified.<br/>[2] The smallest eigenvalue is 6.31e-27. This might indicate that there are<br/>strong multicollinearity problems or that the design matrix is singular."
            ],
            "text/plain": [
              "<class 'statsmodels.iolib.summary.Summary'>\n",
              "\"\"\"\n",
              "                            OLS Regression Results                            \n",
              "==============================================================================\n",
              "Dep. Variable:                  TMEAN   R-squared:                       0.908\n",
              "Model:                            OLS   Adj. R-squared:                  0.908\n",
              "Method:                 Least Squares   F-statistic:                     5539.\n",
              "Date:                Sat, 04 May 2019   Prob (F-statistic):               0.00\n",
              "Time:                        02:31:21   Log-Likelihood:                -10296.\n",
              "No. Observations:                3358   AIC:                         2.061e+04\n",
              "Df Residuals:                    3351   BIC:                         2.065e+04\n",
              "Df Model:                           6                                         \n",
              "Covariance Type:            nonrobust                                         \n",
              "==============================================================================\n",
              "                 coef    std err          t      P>|t|      [0.025      0.975]\n",
              "------------------------------------------------------------------------------\n",
              "const          3.0533      0.443      6.886      0.000       2.184       3.923\n",
              "TMAX_1         0.1721      0.018      9.414      0.000       0.136       0.208\n",
              "TMAX_2         0.0279      0.019      1.484      0.138      -0.009       0.065\n",
              "TMAX_3         0.0415      0.018      2.264      0.024       0.006       0.077\n",
              "TMIN_1         0.4737      0.022     21.631      0.000       0.431       0.517\n",
              "TMIN_2        -0.2176      0.024     -8.975      0.000      -0.265      -0.170\n",
              "TMIN_3         0.1464      0.021      6.916      0.000       0.105       0.188\n",
              "TMEAN_1        0.3229      0.006     55.110      0.000       0.311       0.334\n",
              "TMEAN_2       -0.0948      0.008    -11.706      0.000      -0.111      -0.079\n",
              "TMEAN_3        0.0940      0.006     16.090      0.000       0.083       0.105\n",
              "==============================================================================\n",
              "Omnibus:                       21.502   Durbin-Watson:                   2.064\n",
              "Prob(Omnibus):                  0.000   Jarque-Bera (JB):               29.246\n",
              "Skew:                          -0.069   Prob(JB):                     4.46e-07\n",
              "Kurtosis:                       3.436   Cond. No.                     1.27e+17\n",
              "==============================================================================\n",
              "\n",
              "Warnings:\n",
              "[1] Standard Errors assume that the covariance matrix of the errors is correctly specified.\n",
              "[2] The smallest eigenvalue is 6.31e-27. This might indicate that there are\n",
              "strong multicollinearity problems or that the design matrix is singular.\n",
              "\"\"\""
            ]
          },
          "metadata": {
            "tags": []
          },
          "execution_count": 27
        }
      ]
    },
    {
      "cell_type": "code",
      "metadata": {
        "id": "fHC231oVB-uj",
        "colab_type": "code",
        "outputId": "aeebbab0-34b5-4574-d11a-2aa80e03d371",
        "colab": {
          "base_uri": "https://localhost:8080/",
          "height": 204
        }
      },
      "source": [
        "from sklearn.model_selection import train_test_split  \n",
        "# first remove the const column because unlike statsmodels, SciKit-Learn will add that in for us\n",
        "X = X.drop('const', axis=1)\n",
        "#newX will be used further for actual prediction \n",
        "newX=X.iloc[3357]\n",
        "X_train, X_test, y_train, y_test = train_test_split(X, y, test_size=0.2, random_state=12)\n",
        "X_train.head()"
      ],
      "execution_count": 0,
      "outputs": [
        {
          "output_type": "execute_result",
          "data": {
            "text/html": [
              "<div>\n",
              "<style scoped>\n",
              "    .dataframe tbody tr th:only-of-type {\n",
              "        vertical-align: middle;\n",
              "    }\n",
              "\n",
              "    .dataframe tbody tr th {\n",
              "        vertical-align: top;\n",
              "    }\n",
              "\n",
              "    .dataframe thead th {\n",
              "        text-align: right;\n",
              "    }\n",
              "</style>\n",
              "<table border=\"1\" class=\"dataframe\">\n",
              "  <thead>\n",
              "    <tr style=\"text-align: right;\">\n",
              "      <th></th>\n",
              "      <th>TMAX_1</th>\n",
              "      <th>TMAX_2</th>\n",
              "      <th>TMAX_3</th>\n",
              "      <th>TMIN_1</th>\n",
              "      <th>TMIN_2</th>\n",
              "      <th>TMIN_3</th>\n",
              "      <th>TMEAN_1</th>\n",
              "      <th>TMEAN_2</th>\n",
              "      <th>TMEAN_3</th>\n",
              "    </tr>\n",
              "  </thead>\n",
              "  <tbody>\n",
              "    <tr>\n",
              "      <th>823</th>\n",
              "      <td>58.0</td>\n",
              "      <td>52.0</td>\n",
              "      <td>44.0</td>\n",
              "      <td>40.0</td>\n",
              "      <td>42.0</td>\n",
              "      <td>39.0</td>\n",
              "      <td>49.0</td>\n",
              "      <td>47.0</td>\n",
              "      <td>41.5</td>\n",
              "    </tr>\n",
              "    <tr>\n",
              "      <th>750</th>\n",
              "      <td>37.0</td>\n",
              "      <td>38.0</td>\n",
              "      <td>53.0</td>\n",
              "      <td>27.0</td>\n",
              "      <td>18.0</td>\n",
              "      <td>24.0</td>\n",
              "      <td>32.0</td>\n",
              "      <td>28.0</td>\n",
              "      <td>38.5</td>\n",
              "    </tr>\n",
              "    <tr>\n",
              "      <th>2491</th>\n",
              "      <td>53.0</td>\n",
              "      <td>54.0</td>\n",
              "      <td>66.0</td>\n",
              "      <td>40.0</td>\n",
              "      <td>44.0</td>\n",
              "      <td>48.0</td>\n",
              "      <td>46.5</td>\n",
              "      <td>49.0</td>\n",
              "      <td>57.0</td>\n",
              "    </tr>\n",
              "    <tr>\n",
              "      <th>3296</th>\n",
              "      <td>47.0</td>\n",
              "      <td>46.0</td>\n",
              "      <td>35.0</td>\n",
              "      <td>34.0</td>\n",
              "      <td>35.0</td>\n",
              "      <td>25.0</td>\n",
              "      <td>40.5</td>\n",
              "      <td>40.5</td>\n",
              "      <td>30.0</td>\n",
              "    </tr>\n",
              "    <tr>\n",
              "      <th>3083</th>\n",
              "      <td>72.0</td>\n",
              "      <td>79.0</td>\n",
              "      <td>74.0</td>\n",
              "      <td>57.0</td>\n",
              "      <td>65.0</td>\n",
              "      <td>58.0</td>\n",
              "      <td>64.5</td>\n",
              "      <td>72.0</td>\n",
              "      <td>66.0</td>\n",
              "    </tr>\n",
              "  </tbody>\n",
              "</table>\n",
              "</div>"
            ],
            "text/plain": [
              "      TMAX_1  TMAX_2  TMAX_3  TMIN_1  TMIN_2  TMIN_3  TMEAN_1  TMEAN_2  \\\n",
              "823     58.0    52.0    44.0    40.0    42.0    39.0     49.0     47.0   \n",
              "750     37.0    38.0    53.0    27.0    18.0    24.0     32.0     28.0   \n",
              "2491    53.0    54.0    66.0    40.0    44.0    48.0     46.5     49.0   \n",
              "3296    47.0    46.0    35.0    34.0    35.0    25.0     40.5     40.5   \n",
              "3083    72.0    79.0    74.0    57.0    65.0    58.0     64.5     72.0   \n",
              "\n",
              "      TMEAN_3  \n",
              "823      41.5  \n",
              "750      38.5  \n",
              "2491     57.0  \n",
              "3296     30.0  \n",
              "3083     66.0  "
            ]
          },
          "metadata": {
            "tags": []
          },
          "execution_count": 28
        }
      ]
    },
    {
      "cell_type": "code",
      "metadata": {
        "id": "FE2Re4yOCBds",
        "colab_type": "code",
        "outputId": "47b86a03-255d-4bbe-81ae-fdeb29b34e93",
        "colab": {
          "base_uri": "https://localhost:8080/",
          "height": 68
        }
      },
      "source": [
        "from sklearn.linear_model import LinearRegression  \n",
        "# instantiate the regressor class\n",
        "regressor = LinearRegression()\n",
        "\n",
        "# fit the build the model by fitting the regressor to the training data\n",
        "regressor.fit(X_train, y_train)\n",
        "\n",
        "# make a prediction set using the test set\n",
        "prediction = regressor.predict(X_test)\n",
        "\n",
        "# Evaluate the prediction accuracy of the model\n",
        "from sklearn.metrics import mean_absolute_error, median_absolute_error  \n",
        "print(\"The Explained Variance: %.4f\" % regressor.score(X_test, y_test))  \n",
        "print(\"The Mean Absolute Error: %.2f degrees celsius\" % mean_absolute_error(y_test, prediction))  \n",
        "print(\"The Median Absolute Error: %.2f degrees celsius\" % median_absolute_error(y_test, prediction)) "
      ],
      "execution_count": 0,
      "outputs": [
        {
          "output_type": "stream",
          "text": [
            "The Explained Variance: 0.9016\n",
            "The Mean Absolute Error: 4.12 degrees celsius\n",
            "The Median Absolute Error: 3.26 degrees celsius\n"
          ],
          "name": "stdout"
        }
      ]
    },
    {
      "cell_type": "markdown",
      "metadata": {
        "id": "2pdYk_57rSg2",
        "colab_type": "text"
      },
      "source": [
        "**ACTUAL PREDICTION**"
      ]
    },
    {
      "cell_type": "code",
      "metadata": {
        "id": "JZh-2oDrCqVh",
        "colab_type": "code",
        "outputId": "ef6a5a80-83e8-481d-b0cc-ea6adb702037",
        "colab": {
          "base_uri": "https://localhost:8080/",
          "height": 34
        }
      },
      "source": [
        "#prediction of value out of sample dataset\n",
        "\n",
        "# define one new data instance\n",
        "Xnew = [[59,52,42,47,38,29,53,45,35]]\n",
        "# make a prediction\n",
        "ynew = regressor.predict(Xnew)\n",
        "# show the inputs and predicted outputs\n",
        "print(\"X=%s, Predicted=%s\"%(Xnew[0], ynew[0]))"
      ],
      "execution_count": 0,
      "outputs": [
        {
          "output_type": "stream",
          "text": [
            "X=[59, 52, 42, 47, 38, 29, 53, 45, 35], Predicted=50.877035174116116\n"
          ],
          "name": "stdout"
        }
      ]
    }
  ]
}